{
 "cells": [
  {
   "cell_type": "code",
   "execution_count": 22,
   "metadata": {},
   "outputs": [],
   "source": [
    "import numpy as np\n",
    "import matplotlib.pyplot as plt\n",
    "import sys\n",
    "import os\n",
    "import copy\n",
    "import itertools as it\n",
    "import functools as ft"
   ]
  },
  {
   "cell_type": "code",
   "execution_count": 2,
   "metadata": {},
   "outputs": [],
   "source": [
    "def bytes_to_int_arr(byts):\n",
    "    return [b for b in byts]\n",
    "\n",
    "\n",
    "def pop_byte(byte_arr):\n",
    "    return byte_arr.pop(0)\n",
    "\n",
    "\n",
    "def pop_bytes(byte_arr, length):\n",
    "    return bytes([pop_byte(byte_arr) for _ in range(length)])\n",
    "\n",
    "\n",
    "def pop_uint8(byte_arr):\n",
    "    return pop_byte(byte_arr)\n",
    "\n",
    "\n",
    "def pop_uint32(byte_arr, byteorder='little'):\n",
    "    byts = pop_bytes(byte_arr, 4)\n",
    "    return int.from_bytes(byts, byteorder)\n",
    "    \n",
    "    \n",
    "def pop_string(byte_arr, length, encoding='utf-8'):\n",
    "    byts = pop_bytes(byte_arr, length)\n",
    "    return byts.decode(encoding)\n",
    "    \n",
    "        \n",
    "def indent(string):\n",
    "    indent_str = ' ' * 3\n",
    "    return indent_str + (('\\n' + indent_str).join(string.splitlines()))"
   ]
  },
  {
   "cell_type": "code",
   "execution_count": 3,
   "metadata": {},
   "outputs": [],
   "source": [
    "slice_footer = bytes([7, ] + ([0, ] * 31))\n",
    "slice_footer_len = len(slice_footer)\n",
    "\n",
    "class PhotoactivationMaskSlice:\n",
    "    \n",
    "    def __init__(self, header=None, footer=None, data=None):\n",
    "        self.header = header\n",
    "        self.data = data if data is None else bytes(data)\n",
    "        self.footer = footer if footer is None else bytes(footer)\n",
    "\n",
    "    def __repr__(self):\n",
    "        repr_str = '''{:s}(\n",
    "   header={},\n",
    "   footer={},\n",
    "   data={})'''.format(\n",
    "            self.__class__.__name__,\n",
    "            self.header,\n",
    "            bytes_to_int_arr(self.footer),\n",
    "            bytes_to_int_arr(self.data))\n",
    "        return repr_str\n",
    "\n",
    "    @staticmethod\n",
    "    def build_from_bytes(byts):\n",
    "        pam_slice = PhotoactivationMaskSlice()\n",
    "        byts = bytearray(byts)\n",
    "        header = tuple(pop_uint32(byts) for _ in range(2))\n",
    "        data = pop_bytes(byts, len(byts) - slice_footer_len)\n",
    "        footer = byts\n",
    "        pam_slice = PhotoactivationMaskSlice(\n",
    "            header=header,\n",
    "            footer=footer,\n",
    "            data=data)\n",
    "        \n",
    "        return pam_slice\n",
    "\n",
    "        \n",
    "class PhotoactivationMask:\n",
    "    \n",
    "    def __init__(self, name=None, shape=None, slices=None,):\n",
    "        self.shape = shape\n",
    "        self.slices = list() if slices is None else slices\n",
    "        self.name = str() if name is None else name\n",
    "\n",
    "    def __repr__(self):\n",
    "        repr_str = '''{:s}(\n",
    "   name=\\'{:s}\\',\n",
    "   shape={},\n",
    "   slices=[{:s}])'''.format(\n",
    "            self.__class__.__name__,\n",
    "            self.name, \n",
    "            self.shape, \n",
    "            '' if not self.slices else ('\\n' + \n",
    "            indent(',\\n'.join(indent(repr(sl)) for sl in self.slices))))\n",
    "        return repr_str\n",
    "        \n",
    "    @staticmethod\n",
    "    def build_from_binary(byts):\n",
    "        byts = bytearray(byts)\n",
    "        pam = PhotoactivationMask()\n",
    "        \n",
    "        name_length = pop_uint8(byts)\n",
    "        pam.name = pop_string(byts, name_length)\n",
    "        \n",
    "        pam.shape = tuple(pop_uint32(byts) for _ in range(3))\n",
    "        \n",
    "        slice_byts = None\n",
    "        \n",
    "        while byts:\n",
    "            if slice_byts is None:\n",
    "                slice_byts = bytearray()\n",
    "                slice_header = tuple(pop_uint32(byts) for _ in range(2))\n",
    "                slice_byts += pop_bytes(byts, slice_header[0])\n",
    "                \n",
    "            elif byts[:slice_footer_len] == slice_footer:\n",
    "                pop_bytes(byts, slice_footer_len)\n",
    "                pam_slice = PhotoactivationMaskSlice(\n",
    "                    header=slice_header,\n",
    "                    footer=slice_footer,\n",
    "                    data=slice_byts)\n",
    "                pam.slices.append(pam_slice)\n",
    "                \n",
    "                slice_byts = None\n",
    "                \n",
    "            else:\n",
    "                _next_len = int.from_bytes(byts[:4], 'little')\n",
    "                slice_byts += pop_bytes(byts, _next_len + 4)\n",
    "        \n",
    "        assert len(pam.slices) == pam.shape[2]\n",
    "        \n",
    "        return pam\n",
    "    \n",
    "    @staticmethod\n",
    "    def build_from_file(path):\n",
    "        with open(path, 'rb') as fle:\n",
    "            byts = fle.read()\n",
    "        return PhotoactivationMask.build_from_binary(byts)"
   ]
  },
  {
   "cell_type": "code",
   "execution_count": 6,
   "metadata": {},
   "outputs": [
    {
     "name": "stdout",
     "output_type": "stream",
     "text": [
      "PhotoactivationMask(\n",
      "   name='test_z_mask_08',\n",
      "   shape=(128, 128, 5),\n",
      "   slices=[\n",
      "      PhotoactivationMaskSlice(\n",
      "         header=(20, 12),\n",
      "         footer=[7, 0, 0, 0, 0, 0, 0, 0, 0, 0, 0, 0, 0, 0, 0, 0, 0, 0, 0, 0, 0, 0, 0, 0, 0, 0, 0, 0, 0, 0, 0, 0],\n",
      "         data=[14, 129, 0, 108, 1, 16, 192, 219, 0, 0, 0, 0, 2, 0, 0, 16, 0, 0, 0, 0]),\n",
      "      PhotoactivationMaskSlice(\n",
      "         header=(20, 12),\n",
      "         footer=[7, 0, 0, 0, 0, 0, 0, 0, 0, 0, 0, 0, 0, 0, 0, 0, 0, 0, 0, 0, 0, 0, 0, 0, 0, 0, 0, 0, 0, 0, 0, 0],\n",
      "         data=[14, 129, 0, 108, 1, 16, 192, 219, 0, 0, 0, 0, 2, 0, 0, 16, 0, 0, 0, 0]),\n",
      "      PhotoactivationMaskSlice(\n",
      "         header=(56, 48),\n",
      "         footer=[7, 0, 0, 0, 0, 0, 0, 0, 0, 0, 0, 0, 0, 0, 0, 0, 0, 0, 0, 0, 0, 0, 0, 0, 0, 0, 0, 0, 0, 0, 0, 0],\n",
      "         data=[184, 88, 247, 233, 1, 16, 192, 219, 0, 0, 0, 0, 1, 0, 0, 16, 32, 0, 0, 0, 1, 16, 192, 219, 4, 0, 0, 0, 0, 64, 0, 0, 0, 0, 0, 0, 1, 0, 0, 0, 1, 0, 1, 0, 0, 0, 1, 0, 0, 1, 1, 129, 0, 0, 0, 0]),\n",
      "      PhotoactivationMaskSlice(\n",
      "         header=(56, 48),\n",
      "         footer=[7, 0, 0, 0, 0, 0, 0, 0, 0, 0, 0, 0, 0, 0, 0, 0, 0, 0, 0, 0, 0, 0, 0, 0, 0, 0, 0, 0, 0, 0, 0, 0],\n",
      "         data=[186, 62, 161, 183, 1, 16, 192, 219, 0, 0, 0, 0, 1, 0, 0, 16, 32, 0, 0, 0, 1, 16, 192, 219, 4, 0, 0, 0, 0, 64, 0, 0, 0, 0, 0, 0, 2, 0, 0, 0, 2, 0, 1, 0, 0, 0, 1, 0, 0, 1, 1, 129, 0, 0, 0, 0]),\n",
      "      PhotoactivationMaskSlice(\n",
      "         header=(100, 92),\n",
      "         footer=[7, 0, 0, 0, 0, 0, 0, 0, 0, 0, 0, 0, 0, 0, 0, 0, 0, 0, 0, 0, 0, 0, 0, 0, 0, 0, 0, 0, 0, 0, 0, 0],\n",
      "         data=[244, 159, 103, 118, 1, 16, 192, 219, 2, 0, 0, 0, 2, 0, 0, 0, 1, 0, 0, 16, 32, 0, 0, 0, 1, 16, 192, 219, 4, 0, 0, 0, 0, 64, 0, 0, 1, 0, 0, 0, 6, 0, 0, 0, 6, 0, 2, 0, 1, 0, 2, 0, 0, 1, 1, 129, 1, 0, 0, 16, 32, 0, 0, 0, 1, 16, 192, 219, 4, 0, 0, 0, 0, 64, 0, 0, 10, 0, 1, 0, 16, 0, 1, 0, 16, 0, 2, 0, 10, 0, 2, 0, 0, 1, 1, 129, 0, 0, 0, 0])])\n"
     ]
    }
   ],
   "source": [
    "data_dir = 'data'\n",
    "file_name = 'test_z_mask_08.pam'\n",
    "\n",
    "file_path = os.path.join(data_dir, file_name)\n",
    "\n",
    "pam = PhotoactivationMask.build_from_file(file_path)\n",
    "print(pam)"
   ]
  },
  {
   "cell_type": "code",
   "execution_count": null,
   "metadata": {},
   "outputs": [],
   "source": []
  },
  {
   "cell_type": "code",
   "execution_count": 5,
   "metadata": {},
   "outputs": [
    {
     "data": {
      "text/plain": [
       "<matplotlib.image.AxesImage at 0x19d733e9a48>"
      ]
     },
     "execution_count": 5,
     "metadata": {},
     "output_type": "execute_result"
    },
    {
     "data": {
      "image/png": "[encoded data removed]",
      "text/plain": [
       "<Figure size 288x432 with 1 Axes>"
      ]
     },
     "metadata": {
      "needs_background": "light"
     },
     "output_type": "display_data"
    }
   ],
   "source": [
    "all_mask_data = bytes_to_int_arr(bytes().join(sl.data for sl in pam.slices))\n",
    "mask_data_np = np.array(all_mask_data)\n",
    "original_size = mask_data_np.size\n",
    "\n",
    "vis_width = 20\n",
    "new_shape = (np.ceil(mask_data_np.size / vis_width).astype(int), vis_width)\n",
    "mask_data_vis = np.resize(mask_data_np.astype(float), new_shape)\n",
    "\n",
    "num_extra_values = mask_data_vis.size - original_size\n",
    "extra_value_idxs = mask_data_vis.size - (np.arange(num_extra_values) + 1)\n",
    "extra_value_slice = np.unravel_index(extra_value_idxs, mask_data_vis.shape)\n",
    "mask_data_vis[extra_value_slice] = np.NaN\n",
    "\n",
    "plt.matshow(mask_data_vis, cmap='magma')"
   ]
  },
  {
   "cell_type": "code",
   "execution_count": 357,
   "metadata": {},
   "outputs": [
    {
     "name": "stdout",
     "output_type": "stream",
     "text": [
      "header[0] =      20, len(data) =      20, len(data) - header[0] =       0\n",
      "header[0] =      20, len(data) =      20, len(data) - header[0] =       0\n",
      "header[0] =   10120, len(data) =   17596, len(data) - header[0] =    7476\n",
      "header[0] =   30520, len(data) =   45220, len(data) - header[0] =   14700\n",
      "header[0] =   41560, len(data) =   97260, len(data) - header[0] =   55700\n",
      "header[0] =   50296, len(data) =  149172, len(data) - header[0] =   98876\n",
      "header[0] =   50816, len(data) =  157832, len(data) - header[0] =  107016\n",
      "header[0] =  209388, len(data) =  319844, len(data) - header[0] =  110456\n",
      "header[0] =  229088, len(data) =  757496, len(data) - header[0] =  528408\n",
      "header[0] =  246380, len(data) =  986772, len(data) - header[0] =  740392\n"
     ]
    }
   ],
   "source": [
    "_ = [print('header[0] = {:7d}, len(data) = {:7d}, len(data) - header[0] = {:7d}'.format(\n",
    "        sl.header[0], \n",
    "        len(sl.data),\n",
    "        len(sl.data) - sl.header[0]))\n",
    "     for sl in pam.slices]"
   ]
  },
  {
   "cell_type": "code",
   "execution_count": 29,
   "metadata": {},
   "outputs": [
    {
     "name": "stdout",
     "output_type": "stream",
     "text": [
      "b'\\xb8X\\xf7\\xe9'\n",
      "4:8\n",
      "8:12\n",
      "12:16\n",
      "16:20\n",
      "20:24\n",
      "24:28\n",
      "28:32\n",
      "32:36\n",
      "36:40\n",
      "40:44\n",
      "44:48\n",
      "48:52\n",
      "52:56\n",
      "[b'\\x01\\x10\\xc0\\xdb', b'\\x00\\x00\\x00\\x00', b'\\x01\\x00\\x00\\x10', b' \\x00\\x00\\x00', b'\\x01\\x10\\xc0\\xdb', b'\\x04\\x00\\x00\\x00', b'\\x00@\\x00\\x00', b'\\x00\\x00\\x00\\x00', b'\\x01\\x00\\x00\\x00', b'\\x01\\x00\\x01\\x00', b'\\x00\\x00\\x01\\x00', b'\\x00\\x01\\x01\\x81', b'\\x00\\x00\\x00\\x00']\n",
      "2432778533\n",
      "1268825516\n"
     ]
    }
   ],
   "source": [
    "file_path_1 = os.path.join(data_dir, 'test_z_mask_07.pam')\n",
    "file_path_2 = os.path.join(data_dir, 'test_z_mask_08.pam')\n",
    "\n",
    "pam_1 = PhotoactivationMask.build_from_file(file_path_1)\n",
    "pam_2 = PhotoactivationMask.build_from_file(file_path_2)\n",
    "\n",
    "print(pam_1.slices[2].data[:4])\n",
    "_ = [print('{}:{}'.format((i * 4), ((i * 4) + 4))) for i in range(1, round(len(pam_1.slices[2].data) / 4))]\n",
    "x = [pam_1.slices[2].data[(i * 4):((i * 4) + 4)]\n",
    "     for i in range(1, round(len(pam_1.slices[2].data) / 4))]\n",
    "print(x)\n",
    "\n",
    "def byte_xor(x, y):\n",
    "    return bytes([_x ^ _y for _x, _y in zip(x, y)])\n",
    "\n",
    "print(int.from_bytes(ft.reduce(byte_xor, x), 'little'))\n",
    "print(int.from_bytes(pam_1.slices[3].data[:4], 'little') - int.from_bytes(pam_1.slices[0].data[:4], 'little'))\n"
   ]
  },
  {
   "cell_type": "code",
   "execution_count": null,
   "metadata": {},
   "outputs": [],
   "source": []
  }
 ],
 "metadata": {
  "kernelspec": {
   "display_name": "Python 3",
   "language": "python",
   "name": "python3"
  },
  "language_info": {
   "codemirror_mode": {
    "name": "ipython",
    "version": 3
   },
   "file_extension": ".py",
   "mimetype": "text/x-python",
   "name": "python",
   "nbconvert_exporter": "python",
   "pygments_lexer": "ipython3",
   "version": "3.7.4"
  }
 },
 "nbformat": 4,
 "nbformat_minor": 4
}
