{
 "cells": [
  {
   "cell_type": "code",
   "execution_count": 142,
   "metadata": {},
   "outputs": [
    {
     "name": "stdout",
     "output_type": "stream",
     "text": [
      "b''\n"
     ]
    }
   ],
   "source": [
    "import numpy as np\n",
    "import matplotlib.pyplot as plt\n",
    "import sys\n",
    "import os\n",
    "import copy\n",
    "\n",
    "file_name = 'test_z_mask_01.pam'\n",
    "data_dir = 'data'\n",
    "\n",
    "file_path = os.path.join(data_dir, file_name)\n",
    "\n",
    "with open(file_path, 'rb') as fle:\n",
    "    file_bytes = fle.read()\n",
    "\n",
    "print(file_bytes[:25])"
   ]
  },
  {
   "cell_type": "code",
   "execution_count": 117,
   "metadata": {},
   "outputs": [
    {
     "name": "stdout",
     "output_type": "stream",
     "text": [
      "test_z_mask_corban_1\n"
     ]
    }
   ],
   "source": [
    "byteorder = 'little'\n",
    "idx = 0\n",
    "name_length = file_bytes[idx]\n",
    "\n",
    "idx = 1\n",
    "mask_name = file_bytes[idx:(idx+name_length)].decode('utf-8')\n",
    "print(mask_name)\n",
    "\n",
    "idx += name_length\n",
    "num_shape_bytes = 4\n",
    "start_idxs = [idx + (x * num_shape_bytes) for x in range(3)]\n",
    "mask_shape = tuple(int.from_bytes(file_bytes[i:(i + num_shape_bytes)], \n",
    "                                  byteorder=byteorder)\n",
    "                   for i in start_idxs) \n",
    "\n",
    "idx += num_shape_bytes * 3\n",
    "mask_data = file_bytes[idx:]"
   ]
  },
  {
   "cell_type": "code",
   "execution_count": 118,
   "metadata": {},
   "outputs": [],
   "source": [
    "mask_data_np = np.array([intval for intval in mask_data])\n",
    "original_size = mask_data_np.size\n"
   ]
  },
  {
   "cell_type": "code",
   "execution_count": 119,
   "metadata": {},
   "outputs": [
    {
     "data": {
      "text/plain": [
       "<matplotlib.image.AxesImage at 0x25505bf4148>"
      ]
     },
     "execution_count": 119,
     "metadata": {},
     "output_type": "execute_result"
    },
    {
     "data": {
      "image/png": "[encoded data removed]",
      "text/plain": [
       "<Figure size 523.636x288 with 1 Axes>"
      ]
     },
     "metadata": {
      "needs_background": "light"
     },
     "output_type": "display_data"
    }
   ],
   "source": [
    "vis_width = 60\n",
    "new_shape = (np.ceil(mask_data_np.size / vis_width).astype(int), width)\n",
    "mask_data_vis = np.resize(mask_data_np.astype(float), new_shape)\n",
    "\n",
    "num_extra_values = mask_data_vis.size - original_size\n",
    "extra_value_idxs = mask_data_vis.size - (np.arange(num_extra_values) + 1)\n",
    "extra_value_slice = np.unravel_index(extra_value_idxs, mask_data_vis.shape)\n",
    "mask_data_vis[extra_value_slice] = np.NaN\n",
    "\n",
    "plt.matshow(mask_data_vis, cmap='magma')"
   ]
  },
  {
   "cell_type": "code",
   "execution_count": 120,
   "metadata": {},
   "outputs": [
    {
     "name": "stdout",
     "output_type": "stream",
     "text": [
      "[   0   60  120  180  288  380  472  940 1000 1060 1120 1180 1240 1300\n",
      " 1360 1420 1480 1540 1600 1660 1720 1780 1840 1900]\n",
      "(24,)\n",
      "[ 20  20  20  68  52  52 428  20  20  20  20  20  20  20  20  20  20  20\n",
      "  20  20  20  20  20  20]\n"
     ]
    }
   ],
   "source": [
    "chunk_idxs = -33 + np.concatenate((np.arange(33, 213 + 60, 60), \n",
    "                                    [321, 413, 505, ],\n",
    "                                    np.arange(973, 1933 + 60, 60)))\n",
    "chunk_sizes = np.diff(chunk_idxs, append=mask_data_np.size)\n",
    "print(chunk_idxs)\n",
    "print(chunk_idxs.shape)\n",
    "print(chunk_sizes - 8 - 32)"
   ]
  },
  {
   "cell_type": "code",
   "execution_count": 121,
   "metadata": {},
   "outputs": [
    {
     "name": "stdout",
     "output_type": "stream",
     "text": [
      "{'head': [20, 12], 'data': b'\\x0e\\x81\\x00l\\x01\\x10\\xc0\\xdb\\x00\\x00\\x00\\x00\\x02\\x00\\x00\\x10\\x00\\x00\\x00\\x00', 'tail': b'\\x07\\x00\\x00\\x00\\x00\\x00\\x00\\x00\\x00\\x00\\x00\\x00\\x00\\x00\\x00\\x00\\x00\\x00\\x00\\x00\\x00\\x00\\x00\\x00\\x00\\x00\\x00\\x00\\x00\\x00\\x00\\x00'}\n"
     ]
    }
   ],
   "source": [
    "split_mask_data_np = np.split(mask_data_np, chunk_idxs[1:])\n",
    "split_mask_data_bytes = [bytes(x.tolist()) for x in split_mask_data_np]\n",
    "split_mask_data_obj = [{\n",
    "    'head': [int.from_bytes(x[:4], byteorder=byteorder), \n",
    "             int.from_bytes(x[4:8], byteorder=byteorder)], \n",
    "    'data': x[8:-32],\n",
    "    'tail': x[-32:]} for x in split_mask_data_bytes]\n",
    "\n",
    "print(split_mask_data_obj[0])"
   ]
  },
  {
   "cell_type": "code",
   "execution_count": 123,
   "metadata": {},
   "outputs": [],
   "source": [
    "for i, x in enumerate(split_mask_data_obj):\n",
    "    _file_name = 'test_01_page-%02d_data.bin' % (i + 1)\n",
    "    _file_path = os.path.join(data_dir, _file_name)\n",
    "    with open(_file_path, 'wb') as fle:\n",
    "        fle.write(x['data'])"
   ]
  },
  {
   "cell_type": "code",
   "execution_count": 124,
   "metadata": {},
   "outputs": [
    {
     "name": "stdout",
     "output_type": "stream",
     "text": [
      "[14, 129, 0, 108, 1, 16, 192, 219, 0, 0, 0, 0, 2, 0, 0, 16, 0, 0, 0, 0]\n",
      "[14, 129, 0, 108, 1, 16, 192, 219, 0, 0, 0, 0, 2, 0, 0, 16, 0, 0, 0, 0]\n",
      "[14, 129, 0, 108, 1, 16, 192, 219, 0, 0, 0, 0, 2, 0, 0, 16, 0, 0, 0, 0]\n",
      "[45, 106, 249, 236, 1, 16, 192, 219, 0, 0, 0, 0, 1, 0, 0, 16, 44, 0, 0, 0, 1, 16, 192, 219, 6, 0, 0, 0, 0, 96, 0, 0, 43, 0, 16, 0, 43, 0, 16, 0, 43, 0, 15, 0, 43, 0, 15, 0, 13, 0, 58, 0, 81, 0, 69, 0, 0, 1, 1, 1, 1, 1, 0, 0, 0, 0, 0, 0]\n",
      "[62, 189, 71, 18, 1, 16, 192, 219, 0, 0, 0, 0, 1, 0, 0, 16, 28, 0, 0, 0, 1, 16, 192, 219, 3, 0, 0, 0, 0, 96, 0, 0, 50, 0, 21, 0, 20, 0, 66, 0, 88, 0, 73, 0, 0, 1, 1, 0, 0, 0, 0, 0]\n",
      "[112, 142, 2, 83, 1, 16, 192, 219, 0, 0, 0, 0, 1, 0, 0, 16, 28, 0, 0, 0, 1, 16, 192, 219, 3, 0, 0, 0, 0, 96, 0, 0, 63, 0, 18, 0, 24, 0, 73, 0, 109, 0, 78, 0, 0, 1, 1, 0, 0, 0, 0, 0]\n",
      "[186, 186, 28, 176, 1, 16, 192, 219, 2, 0, 0, 0, 2, 0, 0, 0, 1, 0, 0, 16, 28, 0, 0, 0, 1, 16, 192, 219, 3, 0, 0, 0, 0, 96, 0, 0, 63, 0, 18, 0, 24, 0, 73, 0, 109, 0, 78, 0, 0, 1, 1, 0, 1, 0, 0, 16, 108, 1, 0, 0, 1, 16, 192, 219, 39, 0, 0, 0, 0, 32, 0, 0, 184, 158, 218, 66, 0, 0, 156, 65, 184, 158, 218, 66, 143, 79, 167, 65, 227, 83, 216, 66, 225, 122, 176, 65, 0, 128, 213, 66, 225, 122, 176, 65, 28, 172, 210, 66, 225, 122, 176, 65, 71, 97, 208, 66, 143, 79, 167, 65, 71, 97, 208, 66, 0, 0, 156, 65, 71, 97, 208, 66, 112, 176, 144, 65, 28, 172, 210, 66, 30, 133, 135, 65, 0, 128, 213, 66, 30, 133, 135, 65, 227, 83, 216, 66, 30, 133, 135, 65, 184, 158, 218, 66, 112, 176, 144, 65, 184, 158, 218, 66, 0, 0, 156, 65, 184, 158, 218, 66, 0, 0, 156, 65, 184, 158, 218, 66, 143, 79, 167, 65, 227, 83, 216, 66, 225, 122, 176, 65, 0, 128, 213, 66, 225, 122, 176, 65, 28, 172, 210, 66, 225, 122, 176, 65, 71, 97, 208, 66, 143, 79, 167, 65, 71, 97, 208, 66, 0, 0, 156, 65, 71, 97, 208, 66, 112, 176, 144, 65, 28, 172, 210, 66, 30, 133, 135, 65, 0, 128, 213, 66, 30, 133, 135, 65, 227, 83, 216, 66, 30, 133, 135, 65, 184, 158, 218, 66, 112, 176, 144, 65, 184, 158, 218, 66, 0, 0, 156, 65, 184, 158, 218, 66, 0, 0, 156, 65, 184, 158, 218, 66, 143, 79, 167, 65, 227, 83, 216, 66, 225, 122, 176, 65, 0, 128, 213, 66, 225, 122, 176, 65, 28, 172, 210, 66, 225, 122, 176, 65, 71, 97, 208, 66, 143, 79, 167, 65, 71, 97, 208, 66, 0, 0, 156, 65, 71, 97, 208, 66, 112, 176, 144, 65, 28, 172, 210, 66, 30, 133, 135, 65, 0, 128, 213, 66, 30, 133, 135, 65, 227, 83, 216, 66, 30, 133, 135, 65, 184, 158, 218, 66, 112, 176, 144, 65, 184, 158, 218, 66, 0, 0, 156, 65, 0, 3, 3, 3, 3, 3, 3, 3, 3, 3, 3, 3, 131, 0, 3, 3, 3, 3, 3, 3, 3, 3, 3, 3, 3, 131, 0, 3, 3, 3, 3, 3, 3, 3, 3, 3, 3, 3, 131, 0, 0, 0, 0, 0]\n",
      "[14, 129, 0, 108, 1, 16, 192, 219, 0, 0, 0, 0, 2, 0, 0, 16, 0, 0, 0, 0]\n",
      "[14, 129, 0, 108, 1, 16, 192, 219, 0, 0, 0, 0, 2, 0, 0, 16, 0, 0, 0, 0]\n",
      "[14, 129, 0, 108, 1, 16, 192, 219, 0, 0, 0, 0, 2, 0, 0, 16, 0, 0, 0, 0]\n",
      "[14, 129, 0, 108, 1, 16, 192, 219, 0, 0, 0, 0, 2, 0, 0, 16, 0, 0, 0, 0]\n",
      "[14, 129, 0, 108, 1, 16, 192, 219, 0, 0, 0, 0, 2, 0, 0, 16, 0, 0, 0, 0]\n",
      "[14, 129, 0, 108, 1, 16, 192, 219, 0, 0, 0, 0, 2, 0, 0, 16, 0, 0, 0, 0]\n",
      "[14, 129, 0, 108, 1, 16, 192, 219, 0, 0, 0, 0, 2, 0, 0, 16, 0, 0, 0, 0]\n",
      "[14, 129, 0, 108, 1, 16, 192, 219, 0, 0, 0, 0, 2, 0, 0, 16, 0, 0, 0, 0]\n",
      "[14, 129, 0, 108, 1, 16, 192, 219, 0, 0, 0, 0, 2, 0, 0, 16, 0, 0, 0, 0]\n",
      "[14, 129, 0, 108, 1, 16, 192, 219, 0, 0, 0, 0, 2, 0, 0, 16, 0, 0, 0, 0]\n",
      "[14, 129, 0, 108, 1, 16, 192, 219, 0, 0, 0, 0, 2, 0, 0, 16, 0, 0, 0, 0]\n",
      "[14, 129, 0, 108, 1, 16, 192, 219, 0, 0, 0, 0, 2, 0, 0, 16, 0, 0, 0, 0]\n",
      "[14, 129, 0, 108, 1, 16, 192, 219, 0, 0, 0, 0, 2, 0, 0, 16, 0, 0, 0, 0]\n",
      "[14, 129, 0, 108, 1, 16, 192, 219, 0, 0, 0, 0, 2, 0, 0, 16, 0, 0, 0, 0]\n",
      "[14, 129, 0, 108, 1, 16, 192, 219, 0, 0, 0, 0, 2, 0, 0, 16, 0, 0, 0, 0]\n",
      "[14, 129, 0, 108, 1, 16, 192, 219, 0, 0, 0, 0, 2, 0, 0, 16, 0, 0, 0, 0]\n",
      "[14, 129, 0, 108, 1, 16, 192, 219, 0, 0, 0, 0, 2, 0, 0, 16, 0, 0, 0, 0]\n"
     ]
    }
   ],
   "source": [
    "_ = [print([xx for xx in x['data']]) for x in split_mask_data_obj]"
   ]
  },
  {
   "cell_type": "code",
   "execution_count": 290,
   "metadata": {},
   "outputs": [
    {
     "data": {
      "text/plain": [
       "PhotoactivationMask(\n",
       "   name='',\n",
       "   shape=None,\n",
       "   slices=[])"
      ]
     },
     "execution_count": 290,
     "metadata": {},
     "output_type": "execute_result"
    }
   ],
   "source": [
    "def bytes_to_int_arr(byts):\n",
    "    return [b for b in byts]\n",
    "\n",
    "\n",
    "def pop_byte(byte_arr):\n",
    "    return byte_arr.pop(0)\n",
    "\n",
    "\n",
    "def pop_bytes(byte_arr, length):\n",
    "    return bytes([pop_byte(byte_arr) for _ in range(length)])\n",
    "\n",
    "\n",
    "def pop_uint8(byte_arr):\n",
    "    return pop_byte(byte_arr)\n",
    "\n",
    "\n",
    "def pop_uint32(byte_arr, byteorder='little'):\n",
    "    byts = pop_bytes(byte_arr, 4)\n",
    "    return int.from_bytes(byts, byteorder)\n",
    "    \n",
    "    \n",
    "def pop_string(byte_arr, length, encoding='utf-8'):\n",
    "    byts = pop_bytes(byte_arr, length)\n",
    "    return byts.decode(encoding)\n",
    "    \n",
    "        \n",
    "def indent(string):\n",
    "    indent_str = ' ' * 3\n",
    "    return indent_str + (('\\n' + indent_str).join(string.splitlines()))\n",
    "      \n",
    "    \n",
    "class PhotoactivationMaskSlice:\n",
    "    \n",
    "    def __init__(self, header=None, footer=None, data=None):\n",
    "        self.header = header\n",
    "        self.data = data if data is None else bytes(data)\n",
    "        self.footer = footer if footer is None else bytes(footer)\n",
    "\n",
    "    def __repr__(self):\n",
    "        repr_str = '''{:s}(\n",
    "   header={},\n",
    "   footer={},\n",
    "   data={})'''.format(\n",
    "            self.__class__.__name__,\n",
    "            self.header,\n",
    "            bytes_to_int_arr(self.footer),\n",
    "            bytes_to_int_arr(self.data))\n",
    "        return repr_str\n",
    "\n",
    "        \n",
    "class PhotoactivationMask:\n",
    "    \n",
    "    def __init__(self, name=None, shape=None, slices=None,):\n",
    "        self.shape = shape\n",
    "        self.slices = list() if slices is None else slices\n",
    "        self.name = str() if name is None else name\n",
    "\n",
    "    def __repr__(self):\n",
    "        repr_str = '''{:s}(\n",
    "   name=\\'{:s}\\',\n",
    "   shape={},\n",
    "   slices=[{:s}])'''.format(\n",
    "            self.__class__.__name__,\n",
    "            self.name, \n",
    "            self.shape, \n",
    "            '' if not self.slices else ('\\n' + \n",
    "            indent(',\\n'.join(indent(repr(sl)) for sl in self.slices))))\n",
    "        return repr_str\n",
    "        \n",
    "    @staticmethod\n",
    "    def build_from_binary(byts):\n",
    "        byts = bytearray(byts)\n",
    "        pam = PhotoactivationMask()\n",
    "        \n",
    "        name_length = pop_uint8(byts)\n",
    "        pam.name = pop_string(byts, name_length)\n",
    "        \n",
    "        pam.shape = tuple(pop_uint32(byts) for _ in range(3))\n",
    "        \n",
    "        slice_footer_length = 32        \n",
    "        while byts:            \n",
    "            pam_slice = PhotoactivationMaskSlice()\n",
    "            slice_data_length = pop_uint32(byts)\n",
    "            pam_slice.header = (slice_data_length, pop_uint32(byts))\n",
    "            pam_slice.data = pop_bytes(byts, slice_data_length)\n",
    "            pam_slice.footer = pop_bytes(byts, slice_footer_length)\n",
    "            pam.slices.append(pam_slice)\n",
    "        \n",
    "        assert len(pam.slices) == pam.shape[2]\n",
    "        \n",
    "        return pam\n",
    "    \n",
    "    @staticmethod\n",
    "    def build_from_file(path):\n",
    "        with open(path, 'rb') as fle:\n",
    "            byts = fle.read()\n",
    "        return PhotoactivationMask.build_from_binary(byts)\n",
    "    \n",
    "PhotoactivationMask()"
   ]
  },
  {
   "cell_type": "code",
   "execution_count": 291,
   "metadata": {},
   "outputs": [
    {
     "data": {
      "text/plain": [
       "PhotoactivationMask(\n",
       "   name='test_z_mask_corban_1',\n",
       "   shape=(128, 128, 24),\n",
       "   slices=[\n",
       "      PhotoactivationMaskSlice(\n",
       "         header=(20, 12),\n",
       "         footer=[7, 0, 0, 0, 0, 0, 0, 0, 0, 0, 0, 0, 0, 0, 0, 0, 0, 0, 0, 0, 0, 0, 0, 0, 0, 0, 0, 0, 0, 0, 0, 0],\n",
       "         data=[14, 129, 0, 108, 1, 16, 192, 219, 0, 0, 0, 0, 2, 0, 0, 16, 0, 0, 0, 0]),\n",
       "      PhotoactivationMaskSlice(\n",
       "         header=(20, 12),\n",
       "         footer=[7, 0, 0, 0, 0, 0, 0, 0, 0, 0, 0, 0, 0, 0, 0, 0, 0, 0, 0, 0, 0, 0, 0, 0, 0, 0, 0, 0, 0, 0, 0, 0],\n",
       "         data=[14, 129, 0, 108, 1, 16, 192, 219, 0, 0, 0, 0, 2, 0, 0, 16, 0, 0, 0, 0]),\n",
       "      PhotoactivationMaskSlice(\n",
       "         header=(20, 12),\n",
       "         footer=[7, 0, 0, 0, 0, 0, 0, 0, 0, 0, 0, 0, 0, 0, 0, 0, 0, 0, 0, 0, 0, 0, 0, 0, 0, 0, 0, 0, 0, 0, 0, 0],\n",
       "         data=[14, 129, 0, 108, 1, 16, 192, 219, 0, 0, 0, 0, 2, 0, 0, 16, 0, 0, 0, 0]),\n",
       "      PhotoactivationMaskSlice(\n",
       "         header=(68, 60),\n",
       "         footer=[7, 0, 0, 0, 0, 0, 0, 0, 0, 0, 0, 0, 0, 0, 0, 0, 0, 0, 0, 0, 0, 0, 0, 0, 0, 0, 0, 0, 0, 0, 0, 0],\n",
       "         data=[45, 106, 249, 236, 1, 16, 192, 219, 0, 0, 0, 0, 1, 0, 0, 16, 44, 0, 0, 0, 1, 16, 192, 219, 6, 0, 0, 0, 0, 96, 0, 0, 43, 0, 16, 0, 43, 0, 16, 0, 43, 0, 15, 0, 43, 0, 15, 0, 13, 0, 58, 0, 81, 0, 69, 0, 0, 1, 1, 1, 1, 1, 0, 0, 0, 0, 0, 0]),\n",
       "      PhotoactivationMaskSlice(\n",
       "         header=(52, 44),\n",
       "         footer=[7, 0, 0, 0, 0, 0, 0, 0, 0, 0, 0, 0, 0, 0, 0, 0, 0, 0, 0, 0, 0, 0, 0, 0, 0, 0, 0, 0, 0, 0, 0, 0],\n",
       "         data=[62, 189, 71, 18, 1, 16, 192, 219, 0, 0, 0, 0, 1, 0, 0, 16, 28, 0, 0, 0, 1, 16, 192, 219, 3, 0, 0, 0, 0, 96, 0, 0, 50, 0, 21, 0, 20, 0, 66, 0, 88, 0, 73, 0, 0, 1, 1, 0, 0, 0, 0, 0]),\n",
       "      PhotoactivationMaskSlice(\n",
       "         header=(52, 44),\n",
       "         footer=[7, 0, 0, 0, 0, 0, 0, 0, 0, 0, 0, 0, 0, 0, 0, 0, 0, 0, 0, 0, 0, 0, 0, 0, 0, 0, 0, 0, 0, 0, 0, 0],\n",
       "         data=[112, 142, 2, 83, 1, 16, 192, 219, 0, 0, 0, 0, 1, 0, 0, 16, 28, 0, 0, 0, 1, 16, 192, 219, 3, 0, 0, 0, 0, 96, 0, 0, 63, 0, 18, 0, 24, 0, 73, 0, 109, 0, 78, 0, 0, 1, 1, 0, 0, 0, 0, 0]),\n",
       "      PhotoactivationMaskSlice(\n",
       "         header=(428, 420),\n",
       "         footer=[7, 0, 0, 0, 0, 0, 0, 0, 0, 0, 0, 0, 0, 0, 0, 0, 0, 0, 0, 0, 0, 0, 0, 0, 0, 0, 0, 0, 0, 0, 0, 0],\n",
       "         data=[186, 186, 28, 176, 1, 16, 192, 219, 2, 0, 0, 0, 2, 0, 0, 0, 1, 0, 0, 16, 28, 0, 0, 0, 1, 16, 192, 219, 3, 0, 0, 0, 0, 96, 0, 0, 63, 0, 18, 0, 24, 0, 73, 0, 109, 0, 78, 0, 0, 1, 1, 0, 1, 0, 0, 16, 108, 1, 0, 0, 1, 16, 192, 219, 39, 0, 0, 0, 0, 32, 0, 0, 184, 158, 218, 66, 0, 0, 156, 65, 184, 158, 218, 66, 143, 79, 167, 65, 227, 83, 216, 66, 225, 122, 176, 65, 0, 128, 213, 66, 225, 122, 176, 65, 28, 172, 210, 66, 225, 122, 176, 65, 71, 97, 208, 66, 143, 79, 167, 65, 71, 97, 208, 66, 0, 0, 156, 65, 71, 97, 208, 66, 112, 176, 144, 65, 28, 172, 210, 66, 30, 133, 135, 65, 0, 128, 213, 66, 30, 133, 135, 65, 227, 83, 216, 66, 30, 133, 135, 65, 184, 158, 218, 66, 112, 176, 144, 65, 184, 158, 218, 66, 0, 0, 156, 65, 184, 158, 218, 66, 0, 0, 156, 65, 184, 158, 218, 66, 143, 79, 167, 65, 227, 83, 216, 66, 225, 122, 176, 65, 0, 128, 213, 66, 225, 122, 176, 65, 28, 172, 210, 66, 225, 122, 176, 65, 71, 97, 208, 66, 143, 79, 167, 65, 71, 97, 208, 66, 0, 0, 156, 65, 71, 97, 208, 66, 112, 176, 144, 65, 28, 172, 210, 66, 30, 133, 135, 65, 0, 128, 213, 66, 30, 133, 135, 65, 227, 83, 216, 66, 30, 133, 135, 65, 184, 158, 218, 66, 112, 176, 144, 65, 184, 158, 218, 66, 0, 0, 156, 65, 184, 158, 218, 66, 0, 0, 156, 65, 184, 158, 218, 66, 143, 79, 167, 65, 227, 83, 216, 66, 225, 122, 176, 65, 0, 128, 213, 66, 225, 122, 176, 65, 28, 172, 210, 66, 225, 122, 176, 65, 71, 97, 208, 66, 143, 79, 167, 65, 71, 97, 208, 66, 0, 0, 156, 65, 71, 97, 208, 66, 112, 176, 144, 65, 28, 172, 210, 66, 30, 133, 135, 65, 0, 128, 213, 66, 30, 133, 135, 65, 227, 83, 216, 66, 30, 133, 135, 65, 184, 158, 218, 66, 112, 176, 144, 65, 184, 158, 218, 66, 0, 0, 156, 65, 0, 3, 3, 3, 3, 3, 3, 3, 3, 3, 3, 3, 131, 0, 3, 3, 3, 3, 3, 3, 3, 3, 3, 3, 3, 131, 0, 3, 3, 3, 3, 3, 3, 3, 3, 3, 3, 3, 131, 0, 0, 0, 0, 0]),\n",
       "      PhotoactivationMaskSlice(\n",
       "         header=(20, 12),\n",
       "         footer=[7, 0, 0, 0, 0, 0, 0, 0, 0, 0, 0, 0, 0, 0, 0, 0, 0, 0, 0, 0, 0, 0, 0, 0, 0, 0, 0, 0, 0, 0, 0, 0],\n",
       "         data=[14, 129, 0, 108, 1, 16, 192, 219, 0, 0, 0, 0, 2, 0, 0, 16, 0, 0, 0, 0]),\n",
       "      PhotoactivationMaskSlice(\n",
       "         header=(20, 12),\n",
       "         footer=[7, 0, 0, 0, 0, 0, 0, 0, 0, 0, 0, 0, 0, 0, 0, 0, 0, 0, 0, 0, 0, 0, 0, 0, 0, 0, 0, 0, 0, 0, 0, 0],\n",
       "         data=[14, 129, 0, 108, 1, 16, 192, 219, 0, 0, 0, 0, 2, 0, 0, 16, 0, 0, 0, 0]),\n",
       "      PhotoactivationMaskSlice(\n",
       "         header=(20, 12),\n",
       "         footer=[7, 0, 0, 0, 0, 0, 0, 0, 0, 0, 0, 0, 0, 0, 0, 0, 0, 0, 0, 0, 0, 0, 0, 0, 0, 0, 0, 0, 0, 0, 0, 0],\n",
       "         data=[14, 129, 0, 108, 1, 16, 192, 219, 0, 0, 0, 0, 2, 0, 0, 16, 0, 0, 0, 0]),\n",
       "      PhotoactivationMaskSlice(\n",
       "         header=(20, 12),\n",
       "         footer=[7, 0, 0, 0, 0, 0, 0, 0, 0, 0, 0, 0, 0, 0, 0, 0, 0, 0, 0, 0, 0, 0, 0, 0, 0, 0, 0, 0, 0, 0, 0, 0],\n",
       "         data=[14, 129, 0, 108, 1, 16, 192, 219, 0, 0, 0, 0, 2, 0, 0, 16, 0, 0, 0, 0]),\n",
       "      PhotoactivationMaskSlice(\n",
       "         header=(20, 12),\n",
       "         footer=[7, 0, 0, 0, 0, 0, 0, 0, 0, 0, 0, 0, 0, 0, 0, 0, 0, 0, 0, 0, 0, 0, 0, 0, 0, 0, 0, 0, 0, 0, 0, 0],\n",
       "         data=[14, 129, 0, 108, 1, 16, 192, 219, 0, 0, 0, 0, 2, 0, 0, 16, 0, 0, 0, 0]),\n",
       "      PhotoactivationMaskSlice(\n",
       "         header=(20, 12),\n",
       "         footer=[7, 0, 0, 0, 0, 0, 0, 0, 0, 0, 0, 0, 0, 0, 0, 0, 0, 0, 0, 0, 0, 0, 0, 0, 0, 0, 0, 0, 0, 0, 0, 0],\n",
       "         data=[14, 129, 0, 108, 1, 16, 192, 219, 0, 0, 0, 0, 2, 0, 0, 16, 0, 0, 0, 0]),\n",
       "      PhotoactivationMaskSlice(\n",
       "         header=(20, 12),\n",
       "         footer=[7, 0, 0, 0, 0, 0, 0, 0, 0, 0, 0, 0, 0, 0, 0, 0, 0, 0, 0, 0, 0, 0, 0, 0, 0, 0, 0, 0, 0, 0, 0, 0],\n",
       "         data=[14, 129, 0, 108, 1, 16, 192, 219, 0, 0, 0, 0, 2, 0, 0, 16, 0, 0, 0, 0]),\n",
       "      PhotoactivationMaskSlice(\n",
       "         header=(20, 12),\n",
       "         footer=[7, 0, 0, 0, 0, 0, 0, 0, 0, 0, 0, 0, 0, 0, 0, 0, 0, 0, 0, 0, 0, 0, 0, 0, 0, 0, 0, 0, 0, 0, 0, 0],\n",
       "         data=[14, 129, 0, 108, 1, 16, 192, 219, 0, 0, 0, 0, 2, 0, 0, 16, 0, 0, 0, 0]),\n",
       "      PhotoactivationMaskSlice(\n",
       "         header=(20, 12),\n",
       "         footer=[7, 0, 0, 0, 0, 0, 0, 0, 0, 0, 0, 0, 0, 0, 0, 0, 0, 0, 0, 0, 0, 0, 0, 0, 0, 0, 0, 0, 0, 0, 0, 0],\n",
       "         data=[14, 129, 0, 108, 1, 16, 192, 219, 0, 0, 0, 0, 2, 0, 0, 16, 0, 0, 0, 0]),\n",
       "      PhotoactivationMaskSlice(\n",
       "         header=(20, 12),\n",
       "         footer=[7, 0, 0, 0, 0, 0, 0, 0, 0, 0, 0, 0, 0, 0, 0, 0, 0, 0, 0, 0, 0, 0, 0, 0, 0, 0, 0, 0, 0, 0, 0, 0],\n",
       "         data=[14, 129, 0, 108, 1, 16, 192, 219, 0, 0, 0, 0, 2, 0, 0, 16, 0, 0, 0, 0]),\n",
       "      PhotoactivationMaskSlice(\n",
       "         header=(20, 12),\n",
       "         footer=[7, 0, 0, 0, 0, 0, 0, 0, 0, 0, 0, 0, 0, 0, 0, 0, 0, 0, 0, 0, 0, 0, 0, 0, 0, 0, 0, 0, 0, 0, 0, 0],\n",
       "         data=[14, 129, 0, 108, 1, 16, 192, 219, 0, 0, 0, 0, 2, 0, 0, 16, 0, 0, 0, 0]),\n",
       "      PhotoactivationMaskSlice(\n",
       "         header=(20, 12),\n",
       "         footer=[7, 0, 0, 0, 0, 0, 0, 0, 0, 0, 0, 0, 0, 0, 0, 0, 0, 0, 0, 0, 0, 0, 0, 0, 0, 0, 0, 0, 0, 0, 0, 0],\n",
       "         data=[14, 129, 0, 108, 1, 16, 192, 219, 0, 0, 0, 0, 2, 0, 0, 16, 0, 0, 0, 0]),\n",
       "      PhotoactivationMaskSlice(\n",
       "         header=(20, 12),\n",
       "         footer=[7, 0, 0, 0, 0, 0, 0, 0, 0, 0, 0, 0, 0, 0, 0, 0, 0, 0, 0, 0, 0, 0, 0, 0, 0, 0, 0, 0, 0, 0, 0, 0],\n",
       "         data=[14, 129, 0, 108, 1, 16, 192, 219, 0, 0, 0, 0, 2, 0, 0, 16, 0, 0, 0, 0]),\n",
       "      PhotoactivationMaskSlice(\n",
       "         header=(20, 12),\n",
       "         footer=[7, 0, 0, 0, 0, 0, 0, 0, 0, 0, 0, 0, 0, 0, 0, 0, 0, 0, 0, 0, 0, 0, 0, 0, 0, 0, 0, 0, 0, 0, 0, 0],\n",
       "         data=[14, 129, 0, 108, 1, 16, 192, 219, 0, 0, 0, 0, 2, 0, 0, 16, 0, 0, 0, 0]),\n",
       "      PhotoactivationMaskSlice(\n",
       "         header=(20, 12),\n",
       "         footer=[7, 0, 0, 0, 0, 0, 0, 0, 0, 0, 0, 0, 0, 0, 0, 0, 0, 0, 0, 0, 0, 0, 0, 0, 0, 0, 0, 0, 0, 0, 0, 0],\n",
       "         data=[14, 129, 0, 108, 1, 16, 192, 219, 0, 0, 0, 0, 2, 0, 0, 16, 0, 0, 0, 0]),\n",
       "      PhotoactivationMaskSlice(\n",
       "         header=(20, 12),\n",
       "         footer=[7, 0, 0, 0, 0, 0, 0, 0, 0, 0, 0, 0, 0, 0, 0, 0, 0, 0, 0, 0, 0, 0, 0, 0, 0, 0, 0, 0, 0, 0, 0, 0],\n",
       "         data=[14, 129, 0, 108, 1, 16, 192, 219, 0, 0, 0, 0, 2, 0, 0, 16, 0, 0, 0, 0]),\n",
       "      PhotoactivationMaskSlice(\n",
       "         header=(20, 12),\n",
       "         footer=[7, 0, 0, 0, 0, 0, 0, 0, 0, 0, 0, 0, 0, 0, 0, 0, 0, 0, 0, 0, 0, 0, 0, 0, 0, 0, 0, 0, 0, 0, 0, 0],\n",
       "         data=[14, 129, 0, 108, 1, 16, 192, 219, 0, 0, 0, 0, 2, 0, 0, 16, 0, 0, 0, 0])])"
      ]
     },
     "execution_count": 291,
     "metadata": {},
     "output_type": "execute_result"
    }
   ],
   "source": [
    "pam = PhotoactivationMask.build_from_file(file_path)\n",
    "pam"
   ]
  },
  {
   "cell_type": "code",
   "execution_count": null,
   "metadata": {},
   "outputs": [],
   "source": []
  },
  {
   "cell_type": "code",
   "execution_count": null,
   "metadata": {},
   "outputs": [],
   "source": []
  }
 ],
 "metadata": {
  "kernelspec": {
   "display_name": "Python 3",
   "language": "python",
   "name": "python3"
  },
  "language_info": {
   "codemirror_mode": {
    "name": "ipython",
    "version": 3
   },
   "file_extension": ".py",
   "mimetype": "text/x-python",
   "name": "python",
   "nbconvert_exporter": "python",
   "pygments_lexer": "ipython3",
   "version": "3.7.4"
  }
 },
 "nbformat": 4,
 "nbformat_minor": 4
}
